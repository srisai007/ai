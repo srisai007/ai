{
 "cells": [
  {
   "cell_type": "code",
   "execution_count": null,
   "id": "2d4dcc94",
   "metadata": {},
   "outputs": [],
   "source": [
    "from sklearn.cluster import KMeans\n",
    "from sklearn.mixture import GaussianMixture\n",
    "import sklearn.metrics as metrics\n",
    "import pandas as pd\n",
    "import numpy as np\n",
    "import matplotlib.pyplot as plt\n",
    "names = ['Sepal_Length','Sepal_Width','Petal_Length','Petal_Width', 'Class']\n",
    "dataset = pd.read_csv(\"iris.csv\", names=names) #Note: Give the exact address of the data set file\n",
    "X = dataset.iloc[:, :-1] \n",
    "label = {'Iris-setosa': 0,'Iris-versicolor': 1, 'Iris-virginica': 2} \n",
    "y = [label[c] for c in dataset.iloc[:, -1]]\n",
    "plt.figure(figsize=(14,7))\n",
    "colormap=np.array(['red','lime','black'])\n",
    "# REAL PLOT\n",
    "plt.subplot(1,3,1)\n",
    "plt.title('Real')\n",
    "plt.scatter(X.Petal_Length,X.Petal_Width,c=colormap[y])\n",
    "# K-PLOT\n",
    "model=KMeans(n_clusters=3).fit(X)\n",
    "plt.subplot(1,3,2)\n",
    "plt.title('KMeans')\n",
    "plt.scatter(X.Petal_Length,X.Petal_Width,c=colormap[model.labels_])\n",
    "print('The accuracy score of K-Mean: ',metrics.accuracy_score(y, model.labels_))\n",
    "print('The Confusion matrixof K-Mean:\\n',metrics.confusion_matrix(y, model.labels_))\n",
    "# GMM PLOT\n",
    "gmm=GaussianMixture(n_components=3).fit(X)\n",
    "y_cluster_gmm=gmm.predict(X)\n",
    "plt.subplot(1,3,3)\n",
    "plt.title('GMM Classification')\n",
    "plt.scatter(X.Petal_Length,X.Petal_Width,c=colormap[y_cluster_gmm])\n",
    "print('The accuracy score of EM: ',metrics.accuracy_score(y, y_cluster_gmm))\n",
    "print('The Confusion matrix of EM:\\n ',metrics.confusion_matrix(y, y_cluster_gmm))"
   ]
  }
 ],
 "metadata": {
  "kernelspec": {
   "display_name": "Python 3 (ipykernel)",
   "language": "python",
   "name": "python3"
  },
  "language_info": {
   "codemirror_mode": {
    "name": "ipython",
    "version": 3
   },
   "file_extension": ".py",
   "mimetype": "text/x-python",
   "name": "python",
   "nbconvert_exporter": "python",
   "pygments_lexer": "ipython3",
   "version": "3.10.2"
  }
 },
 "nbformat": 4,
 "nbformat_minor": 5
}
